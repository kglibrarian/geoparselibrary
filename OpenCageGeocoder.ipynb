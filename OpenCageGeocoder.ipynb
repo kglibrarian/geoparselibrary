{
 "cells": [
  {
   "cell_type": "code",
   "execution_count": null,
   "metadata": {},
   "outputs": [],
   "source": [
    "# Dependencies\n",
    "import requests\n",
    "import json\n",
    "import pandas as pd\n",
    "import numpy as np\n",
    "import re\n",
    "import io\n",
    "from config import geoAPIKey\n",
    "from collections import OrderedDict\n",
    "from pandas.io.json import json_normalize  \n",
    "import time\n",
    "import json\n",
    "from opencage.geocoder import OpenCageGeocode\n",
    "\n",
    "import matplotlib.pyplot as plt\n",
    "import cartopy\n",
    "\n",
    "import sys\n",
    "from itertools import combinations\n",
    "from datetime import datetime\n",
    "import random\n",
    "import warnings\n",
    "\n",
    "warnings.filterwarnings(\"ignore\")\n",
    "\n",
    "print(\"Python Version : \", sys.version)\n",
    "print(\"Cartopy Version : \", cartopy.__version__)\n",
    "\n",
    "%matplotlib inline\n",
    "\n",
    "## General Resources\n",
    "## https://amaral.northwestern.edu/blog/getting-long-lat-list-cities\n",
    "## https://opencagedata.com/tutorials/geocode-in-python\n",
    "## https://stackoverflow.com/questions/50001347/install-cartopy-dependencies-on-windows\n",
    "## https://trac.osgeo.org/osgeo4w/\n",
    "\n",
    "## Cartopy is installed  in virtual environment called pythonproject\n",
    "## When opening jupyter notebook using the anaconda prompt, first run the command conda activate pythonproject\n",
    "## Then run the  command jupyter notebook\n",
    "## Once in the Jupyter notebook, in Kernel, Change Kernal, use Python Project ipykernel\n",
    "\n",
    "## To regsiter a new virtual environment (ex: Python Project 2)\n",
    "## In anaconda prompt ipython kernel install --user --name=pythonproject2 --display-name=\"Python Project 2\"\n",
    "\n",
    "## Resources for virtual environment in jupyter notebooks\n",
    "## https://stackoverflow.com/questions/39604271/conda-environments-not-showing-up-in-jupyter-notebook\n",
    "## https://www.geeksforgeeks.org/using-jupyter-notebook-in-virtual-environment/\n"
   ]
  },
  {
   "cell_type": "code",
   "execution_count": null,
   "metadata": {},
   "outputs": [],
   "source": [
    "#The function \"load_csv\" loads a CSV of affiliations\n",
    "\n",
    "file_path = \"affiliations.csv\"\n",
    "    \n",
    "# Read the CSV file and store into Pandas DataFrame \n",
    "affiliation_df = pd.read_csv(file_path, encoding=\"utf-8\")\n",
    "\n",
    "affiliation_df.head()"
   ]
  },
  {
   "cell_type": "code",
   "execution_count": null,
   "metadata": {},
   "outputs": [],
   "source": [
    "## Examine the column names\n",
    "affiliation_df.columns"
   ]
  },
  {
   "cell_type": "code",
   "execution_count": null,
   "metadata": {},
   "outputs": [],
   "source": [
    "## Create a list from one column\n",
    "affiliation_list = affiliation_df['Affiliations_2016_to_2021'].tolist()\n",
    "print(type(affiliation_list))"
   ]
  },
  {
   "cell_type": "code",
   "execution_count": null,
   "metadata": {},
   "outputs": [],
   "source": [
    "## Query the OpenCage Geocode API\n",
    "\n",
    "geocoder = OpenCageGeocode(geoAPIKey)\n",
    "\n",
    "## Test list to practice with: \n",
    "#affiliation_list_2 = ['Harvard University', 'San Jose, CA']\n",
    "\n",
    "## Create empty list\n",
    "multiple_affiliation_list = []\n",
    "not_found_list = []\n",
    "\n",
    "## Create empty dict\n",
    "single_affiliation_dict = {}\n",
    "\n",
    "## For loop for API request: \n",
    "\n",
    "for item in affiliation_list:\n",
    "    \n",
    "    try: \n",
    "        ## Make the API post request \n",
    "        result = geocoder.geocode(item, no_annotations='1')\n",
    "#         print(type(result))\n",
    "#         print(result)\n",
    "\n",
    "        if result and len(result):\n",
    "            longitude = result[0]['geometry']['lng']\n",
    "            latitude  = result[0]['geometry']['lat']\n",
    "#             print(u'%f;%f;%s' % (latitude, longitude, item))\n",
    "            for variable in [\"item\", \"longitude\", \"latitude\"]:\n",
    "                single_affiliation_dict[variable] = eval(variable)\n",
    "        \n",
    "            multiple_affiliation_list.append(single_affiliation_dict.copy())\n",
    "\n",
    "        else:\n",
    "            print(\"not found: \", item)\n",
    "            not_found_list.append(item)\n",
    "            ## Print responses\n",
    "#         print(results)\n",
    "        \n",
    "        # If the response was successful, no Exception will be raised\n",
    "#         results.raise_for_status()\n",
    "#         print(results)\n",
    "        time.sleep(1)\n",
    "    \n",
    "    except IOError as io_err:\n",
    "        print(f'IO error occurred: {io_err}')  # Python 3.6\n",
    "   \n",
    "    except Exception as err:\n",
    "        print(f'Other error occurred: {err}')  # Python 3.6\n",
    "    \n",
    "    else:\n",
    "        print('Success!')\n",
    "        "
   ]
  },
  {
   "cell_type": "code",
   "execution_count": null,
   "metadata": {},
   "outputs": [],
   "source": [
    "## Examine output\n",
    "print(multiple_affiliation_list[1])\n",
    "print(not_found_list)"
   ]
  },
  {
   "cell_type": "code",
   "execution_count": null,
   "metadata": {},
   "outputs": [],
   "source": [
    "## Convert output from list to pandas dataframe\n",
    "affiliation_geo_df = pd.DataFrame(multiple_affiliation_list)\n",
    "       \n",
    "affiliation_geo_df.head()"
   ]
  },
  {
   "cell_type": "code",
   "execution_count": null,
   "metadata": {},
   "outputs": [],
   "source": [
    "## Save work to CSV and inspect as needed\n",
    "with open(r\"geo_affiliations.csv\", 'w', encoding='utf-8') as file:\n",
    "    test_df = pd.DataFrame(affiliation_geo_df, columns = ['item','longitude','latitude'])\n",
    "    test_df.to_csv(file, index=True, line_terminator='\\n')\n",
    "    file.close()   "
   ]
  },
  {
   "cell_type": "code",
   "execution_count": null,
   "metadata": {},
   "outputs": [],
   "source": [
    "#The function \"load_csv\" loads a CSV \n",
    "file_path_2 = \"goe_affiliations.csv\"\n",
    "    \n",
    "# Read the CSV file and store into Pandas DataFrame \n",
    "affiliation_coordinate_df = pd.read_csv(file_path_2, encoding=\"utf-8\").drop(['Unnamed: 0'],axis=1)\n",
    "\n",
    "affiliation_coordinate_df.head()"
   ]
  },
  {
   "cell_type": "code",
   "execution_count": null,
   "metadata": {},
   "outputs": [],
   "source": [
    "## Examine the output\n",
    "\n",
    "print(len(affiliation_df))\n",
    "print(len(affiliation_coordinate_df))"
   ]
  },
  {
   "cell_type": "code",
   "execution_count": null,
   "metadata": {},
   "outputs": [],
   "source": [
    "## Merge the dataframes\n",
    "\n",
    "joined_df = pd.merge(affiliation_df, affiliation_coordinate_df, left_on=\"Affiliations_2016_to_2021\", right_on='item').drop(['item'],axis=1)\n",
    "joined_df.head()"
   ]
  },
  {
   "cell_type": "code",
   "execution_count": null,
   "metadata": {},
   "outputs": [],
   "source": [
    "## Examine the output\n",
    "\n",
    "print(len(joined_df))"
   ]
  },
  {
   "cell_type": "code",
   "execution_count": null,
   "metadata": {},
   "outputs": [],
   "source": [
    "## Save work to CSV and inspect as needed\n",
    "with open(r\"final_geo_affiliations.csv\", 'w', encoding='utf-8') as file:\n",
    "    final_2_df = pd.DataFrame(joined_df)\n",
    "    final_2_df.to_csv(file, index=True, line_terminator='\\n')\n",
    "    file.close()   \n",
    "    \n",
    "    ##columns = ['Affiliations_2016_to_2021','record_count','longitude','latitude']"
   ]
  },
  {
   "cell_type": "code",
   "execution_count": null,
   "metadata": {},
   "outputs": [],
   "source": [
    "#The function \"load_csv\" loads a CSV of affiliations\n",
    "\n",
    "file_path = \"final_geo_affiliations.csv\"\n",
    "    \n",
    "# Read the CSV file and store into Pandas DataFrame \n",
    "final_affiliation_df = pd.read_csv(file_path, encoding=\"utf-8\").drop(['Unnamed: 0'],axis=1)\n",
    "\n",
    "final_affiliation_df.head()"
   ]
  },
  {
   "cell_type": "code",
   "execution_count": null,
   "metadata": {},
   "outputs": [],
   "source": [
    "## Create lists for columns in dataframe\n",
    "\n",
    "longitude = final_affiliation_df['longitude'].tolist()\n",
    "latitude = final_affiliation_df['latitude'].tolist()\n",
    "record_count = final_affiliation_df['Record_Count'].tolist()\n",
    "print(type(longitude))"
   ]
  },
  {
   "cell_type": "code",
   "execution_count": null,
   "metadata": {},
   "outputs": [],
   "source": [
    "## Use Cartopy to create symbol map\n",
    "\n",
    "## Install Cartopy using Conda (easier than pip): https://scitools.org.uk/cartopy/docs/latest/installing.html\n",
    "## https://coderzcolumn.com/tutorials/data-science/cartopy-basic-maps-scatter-map-bubble-map-and-connection-map\n",
    "\n",
    "\n",
    "import cartopy.crs as crs\n",
    "import cartopy.feature as cfeature\n",
    "\n",
    "fig = plt.figure(figsize=(20,40))\n",
    "\n",
    "ax = fig.add_subplot(1,1,1, projection=crs.PlateCarree())\n",
    "\n",
    "ax.add_feature(cfeature.COASTLINE, color=\"white\")\n",
    "ax.add_feature(cfeature.LAND, color=\"lightgrey\", alpha=0.5)\n",
    "ax.add_feature(cfeature.BORDERS, linestyle=\"-\", color=\"white\")\n",
    "# ax.add_feature(cfeature.STATES)\n",
    "\n",
    "\n",
    "\n",
    "plt.scatter(x=longitude, y=latitude,\n",
    "            color=\"royalblue\",\n",
    "            s= record_count,\n",
    "            alpha=0.5,\n",
    "            transform=crs.PlateCarree()) ## Important\n",
    "\n",
    "ax.spines['top'].set_visible(False)\n",
    "ax.spines['right'].set_visible(False)\n",
    "ax.spines['bottom'].set_visible(False)\n",
    "ax.spines['left'].set_visible(False)\n",
    "\n",
    "plt.savefig('coauthors.png')\n",
    "plt.show()\n"
   ]
  },
  {
   "cell_type": "code",
   "execution_count": null,
   "metadata": {},
   "outputs": [],
   "source": []
  }
 ],
 "metadata": {
  "kernelspec": {
   "display_name": "Python Project ipykernel",
   "language": "python",
   "name": "pythongproject"
  },
  "language_info": {
   "codemirror_mode": {
    "name": "ipython",
    "version": 3
   },
   "file_extension": ".py",
   "mimetype": "text/x-python",
   "name": "python",
   "nbconvert_exporter": "python",
   "pygments_lexer": "ipython3",
   "version": "3.9.7"
  }
 },
 "nbformat": 4,
 "nbformat_minor": 4
}
